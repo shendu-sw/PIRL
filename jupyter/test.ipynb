#%%
%load_ext tensorboard
%tensorboard --logdir runs --port 8080